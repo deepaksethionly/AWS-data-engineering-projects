{
  "metadata": {
    "kernelspec": {
      "language": "python",
      "display_name": "Python 3",
      "name": "python3"
    },
    "language_info": {
      "name": "python",
      "version": "3.10.12",
      "mimetype": "text/x-python",
      "codemirror_mode": {
        "name": "ipython",
        "version": 3
      },
      "pygments_lexer": "ipython3",
      "nbconvert_exporter": "python",
      "file_extension": ".py"
    },
    "colab": {
      "provenance": [],
      "include_colab_link": true
    }
  },
  "nbformat_minor": 0,
  "nbformat": 4,
  "cells": [
    {
      "cell_type": "markdown",
      "metadata": {
        "id": "view-in-github",
        "colab_type": "text"
      },
      "source": [
        "<a href=\"https://colab.research.google.com/github/deepaksethionly/AWS-data-engineering-projects/blob/steelcase/steelcase_aws_data_pipeline_etl_redshift_jobscript.ipynb\" target=\"_parent\"><img src=\"https://colab.research.google.com/assets/colab-badge.svg\" alt=\"Open In Colab\"/></a>"
      ]
    },
    {
      "cell_type": "markdown",
      "source": [
        "# Loading Libraries"
      ],
      "metadata": {
        "id": "Pzmhe7jQa_2q"
      }
    },
    {
      "cell_type": "code",
      "source": [
        "import boto3\n",
        "import pandas as pd\n",
        "import psycopg2\n",
        "import json\n",
        "import time\n",
        "from io import StringIO\n",
        "import redshift_connector"
      ],
      "metadata": {
        "trusted": true,
        "id": "zn0DH4FHa_2t"
      },
      "execution_count": null,
      "outputs": []
    },
    {
      "cell_type": "markdown",
      "source": [
        "# Setting up configuration of aws account"
      ],
      "metadata": {
        "id": "PrsWgmIla_2u"
      }
    },
    {
      "cell_type": "code",
      "source": [
        "AWS_ACCESS_KEY= \"your access key\"\n",
        "AWS_SECRET_KEY= \"your secret key\"\n",
        "AWS_REGION=\"us-east-2\"\n",
        "SCHEMA_NAME=\"steelcase\"\n",
        "S3_STAGING_DIR= \"s3://steelcase-output/output/\"\n",
        "S3_BUCKET_NAME= \"steelcase-output\"\n",
        "S3_OUTPUT_DIRECTORY='output'"
      ],
      "metadata": {
        "id": "cr5Z8tM1a_2u"
      },
      "execution_count": null,
      "outputs": []
    },
    {
      "cell_type": "code",
      "source": [
        "athena_client=boto3.client(\n",
        "    \"athena\",\n",
        "    aws_access_key_id=AWS_ACCESS_KEY,\n",
        "    aws_secret_access_key=AWS_SECRET_KEY,\n",
        "    region_name=AWS_REGION,\n",
        "    )"
      ],
      "metadata": {
        "id": "EJ63eZbla_2v"
      },
      "execution_count": null,
      "outputs": []
    },
    {
      "cell_type": "markdown",
      "source": [
        "# Getting query from athena and load the data into dataframe using boto3 libarary and other important access details"
      ],
      "metadata": {
        "id": "7pn1oQsVa_2v"
      }
    },
    {
      "cell_type": "code",
      "source": [
        "Dict={}\n",
        "def download_and_load_query_results(client: boto3.client, query_response: Dict) -> pd.DataFrame:\n",
        "    while True:\n",
        "        try:\n",
        "            client.get_query_results(\n",
        "                QueryExecutionId=query_response[\"QueryExecutionId\"]\n",
        "            )\n",
        "            break\n",
        "        except Exception as err:\n",
        "\n",
        "            if \"not yet finished\" in str(err):\n",
        "                time.sleep(0.001)\n",
        "            else:\n",
        "                raise err\n",
        "    temp_file_location: str = \"athena_query_results.csv\"\n",
        "    S3_client = boto3.client(\n",
        "        \"s3\",\n",
        "        aws_access_key_id=AWS_ACCESS_KEY,\n",
        "        aws_secret_access_key=AWS_SECRET_KEY,\n",
        "        region_name=AWS_REGION,\n",
        "    )\n",
        "\n",
        "    S3_client.download_file(\n",
        "        S3_BUCKET_NAME,\n",
        "        f\"{S3_OUTPUT_DIRECTORY}/{query_response['QueryExecutionId']}.csv\",\n",
        "        temp_file_location,\n",
        "    )\n",
        "\n",
        "    df = pd.read_csv(temp_file_location)\n",
        "    return df\n"
      ],
      "metadata": {
        "id": "HUme2lJxa_2v"
      },
      "execution_count": null,
      "outputs": []
    },
    {
      "cell_type": "code",
      "source": [
        "response = athena_client.start_query_execution(\n",
        "    QueryString=\"SELECT * FROM master_customer\",\n",
        "    QueryExecutionContext={\"Database\": SCHEMA_NAME},\n",
        "    ResultConfiguration={\n",
        "        \"OutputLocation\": S3_STAGING_DIR,\n",
        "        \"EncryptionConfiguration\": {\"EncryptionOption\": \"SSE_S3\"},\n",
        "    },\n",
        ")\n"
      ],
      "metadata": {
        "id": "__mQw5qOa_2w"
      },
      "execution_count": null,
      "outputs": []
    },
    {
      "cell_type": "code",
      "source": [
        "master_customer = download_and_load_query_results(athena_client, response)"
      ],
      "metadata": {
        "id": "crhXXhBRa_2w"
      },
      "execution_count": null,
      "outputs": []
    },
    {
      "cell_type": "code",
      "source": [
        "master_customer.head()"
      ],
      "metadata": {
        "id": "BWsFGL-2a_2w"
      },
      "execution_count": null,
      "outputs": []
    },
    {
      "cell_type": "code",
      "source": [
        "master_customer.shape"
      ],
      "metadata": {
        "id": "Dkv2eBkCa_2w"
      },
      "execution_count": null,
      "outputs": []
    },
    {
      "cell_type": "code",
      "source": [
        "response = athena_client.start_query_execution(\n",
        "    QueryString=\"SELECT * FROM master_product\",\n",
        "    QueryExecutionContext={\"Database\": SCHEMA_NAME},\n",
        "    ResultConfiguration={\n",
        "        \"OutputLocation\": S3_STAGING_DIR,\n",
        "        \"EncryptionConfiguration\": {\"EncryptionOption\": \"SSE_S3\"},\n",
        "    },\n",
        ")\n",
        "countypopulation = download_and_load_query_results(athena_client, response)\n"
      ],
      "metadata": {
        "id": "2eNJB50ra_2x"
      },
      "execution_count": null,
      "outputs": []
    },
    {
      "cell_type": "code",
      "source": [
        "master_product = download_and_load_query_results(athena_client, response)"
      ],
      "metadata": {
        "id": "1RVXE7-na_2x"
      },
      "execution_count": null,
      "outputs": []
    },
    {
      "cell_type": "code",
      "source": [
        "master_product.head()"
      ],
      "metadata": {
        "id": "RmrZ6Z7aa_2x"
      },
      "execution_count": null,
      "outputs": []
    },
    {
      "cell_type": "code",
      "source": [
        "master_product_cols_name=master_product.iloc[0,:].tolist()\n",
        "master_product_cols_name"
      ],
      "metadata": {
        "id": "oU3-fsosa_2x"
      },
      "execution_count": null,
      "outputs": []
    },
    {
      "cell_type": "code",
      "source": [
        "master_product=master_product.iloc[1:,]"
      ],
      "metadata": {
        "id": "rsQlhZMTa_2x"
      },
      "execution_count": null,
      "outputs": []
    },
    {
      "cell_type": "code",
      "source": [
        "master_product.columns=master_product_cols_name"
      ],
      "metadata": {
        "id": "pKdklq2la_2x"
      },
      "execution_count": null,
      "outputs": []
    },
    {
      "cell_type": "code",
      "source": [
        "master_product.head()"
      ],
      "metadata": {
        "id": "DnIkFVmka_2x"
      },
      "execution_count": null,
      "outputs": []
    },
    {
      "cell_type": "code",
      "source": [
        "master_product.shape"
      ],
      "metadata": {
        "id": "E6xN050ia_2x"
      },
      "execution_count": null,
      "outputs": []
    },
    {
      "cell_type": "code",
      "source": [
        "response = athena_client.start_query_execution(\n",
        "    QueryString=\"SELECT * FROM store_data\",\n",
        "    QueryExecutionContext={\"Database\": SCHEMA_NAME},\n",
        "    ResultConfiguration={\n",
        "        \"OutputLocation\": S3_STAGING_DIR,\n",
        "        \"EncryptionConfiguration\": {\"EncryptionOption\": \"SSE_S3\"},\n",
        "    },\n",
        ")\n",
        "countypopulation = download_and_load_query_results(athena_client, response)\n"
      ],
      "metadata": {
        "id": "1VB07tbwa_2x"
      },
      "execution_count": null,
      "outputs": []
    },
    {
      "cell_type": "code",
      "source": [
        "store_data = download_and_load_query_results(athena_client, response)"
      ],
      "metadata": {
        "id": "dMcgMkBsa_2x"
      },
      "execution_count": null,
      "outputs": []
    },
    {
      "cell_type": "code",
      "source": [
        "store_data.head()"
      ],
      "metadata": {
        "id": "QJoyAScha_2x"
      },
      "execution_count": null,
      "outputs": []
    },
    {
      "cell_type": "code",
      "source": [
        "store_data.shape"
      ],
      "metadata": {
        "id": "M9PCtgtIa_2x"
      },
      "execution_count": null,
      "outputs": []
    },
    {
      "cell_type": "markdown",
      "source": [
        "# Dimensional modeling"
      ],
      "metadata": {
        "id": "vNMcqzt1a_2y"
      }
    },
    {
      "cell_type": "code",
      "source": [
        "steelcase_fact_table=store_data[['order_id','customer_id','product_id','sales','discount']].copy()"
      ],
      "metadata": {
        "id": "BY3oe7_sa_2y"
      },
      "execution_count": null,
      "outputs": []
    },
    {
      "cell_type": "code",
      "source": [
        "steelcase_fact_table.head()"
      ],
      "metadata": {
        "id": "W_3C4lEZa_2y"
      },
      "execution_count": null,
      "outputs": []
    },
    {
      "cell_type": "code",
      "source": [
        "steelcase_fact_table.shape"
      ],
      "metadata": {
        "id": "8p0amCj6a_2y"
      },
      "execution_count": null,
      "outputs": []
    },
    {
      "cell_type": "code",
      "source": [
        "customer_dim_table=master_customer.copy()"
      ],
      "metadata": {
        "id": "qCX3duPja_2y"
      },
      "execution_count": null,
      "outputs": []
    },
    {
      "cell_type": "code",
      "source": [
        "customer_dim_table.head()"
      ],
      "metadata": {
        "id": "7TG5A31wa_2y"
      },
      "execution_count": null,
      "outputs": []
    },
    {
      "cell_type": "code",
      "source": [
        "shopping_dim_table_1=store_data[['product_id','order_date','ship_date','ship_mode']].copy()\n",
        "shopping_dim_table_2=master_product.copy()"
      ],
      "metadata": {
        "id": "t_0ZOet9a_2y"
      },
      "execution_count": null,
      "outputs": []
    },
    {
      "cell_type": "code",
      "source": [
        "shopping_dim_table_1.columns"
      ],
      "metadata": {
        "id": "YIvLY1XZa_2y"
      },
      "execution_count": null,
      "outputs": []
    },
    {
      "cell_type": "code",
      "source": [
        "shopping_dim_table_2.columns=['product_id','category', 'sub_category', 'product_name']"
      ],
      "metadata": {
        "id": "Uq5x6sxRa_2y"
      },
      "execution_count": null,
      "outputs": []
    },
    {
      "cell_type": "code",
      "source": [
        "shopping_dim_table=pd.merge(shopping_dim_table_1,shopping_dim_table_2,on='product_id',how='inner')"
      ],
      "metadata": {
        "id": "NQUAbdSma_2y"
      },
      "execution_count": null,
      "outputs": []
    },
    {
      "cell_type": "code",
      "source": [
        "shopping_dim_table.head()"
      ],
      "metadata": {
        "id": "I9pRcBLea_2y"
      },
      "execution_count": null,
      "outputs": []
    },
    {
      "cell_type": "code",
      "source": [
        "shopping_dim_table.shape"
      ],
      "metadata": {
        "id": "IMAaaZ7Ta_2y"
      },
      "execution_count": null,
      "outputs": []
    },
    {
      "cell_type": "code",
      "source": [
        "shopping_dim_table"
      ],
      "metadata": {
        "id": "ZVb2hMa4a_2y"
      },
      "execution_count": null,
      "outputs": []
    },
    {
      "cell_type": "markdown",
      "source": [
        "# Write a the content of dataframe into buffer using to_csv method (suitable for short data for directly handling the data into memory)"
      ],
      "metadata": {
        "id": "7dik1h3fa_2y"
      }
    },
    {
      "cell_type": "code",
      "source": [
        "csv_buffer_steelcase = StringIO()\n",
        "steelcase_fact_table.to_csv(csv_buffer_steelcase,index=False)"
      ],
      "metadata": {
        "id": "7BP10lVFa_2y"
      },
      "execution_count": null,
      "outputs": []
    },
    {
      "cell_type": "code",
      "source": [
        "csv_buffer_customer = StringIO()\n",
        "customer_dim_table.to_csv(csv_buffer_customer,index=False)"
      ],
      "metadata": {
        "id": "AWW3OOkKa_2y"
      },
      "execution_count": null,
      "outputs": []
    },
    {
      "cell_type": "code",
      "source": [
        "csv_buffer_shopping = StringIO()\n",
        "shopping_dim_table.to_csv(csv_buffer_shopping,index=False)"
      ],
      "metadata": {
        "id": "jsP7b7w3a_24"
      },
      "execution_count": null,
      "outputs": []
    },
    {
      "cell_type": "code",
      "source": [
        "s3_resource = boto3.resource(\n",
        "    's3',\n",
        "    aws_access_key_id=AWS_ACCESS_KEY,\n",
        "    aws_secret_access_key=AWS_SECRET_KEY\n",
        ")"
      ],
      "metadata": {
        "id": "PCktzmr2a_24"
      },
      "execution_count": null,
      "outputs": []
    },
    {
      "cell_type": "markdown",
      "source": [
        "# Setting up data into structured manner for accessing the csv files for further use"
      ],
      "metadata": {
        "id": "0llsApU2a_24"
      }
    },
    {
      "cell_type": "code",
      "source": [
        "csv_files = [\n",
        "    ('steelcase_fact.csv', csv_buffer_steelcase),\n",
        "    ('customer_dim.csv', csv_buffer_customer),\n",
        "    ('shopping_dim.csv', csv_buffer_shopping)\n",
        "]"
      ],
      "metadata": {
        "id": "YhWvX8lna_24"
      },
      "execution_count": null,
      "outputs": []
    },
    {
      "cell_type": "markdown",
      "source": [
        "# Uploading the csvs in output folder of s3 bucket  "
      ],
      "metadata": {
        "id": "89TZvWC0a_24"
      }
    },
    {
      "cell_type": "code",
      "source": [
        "for file_name, csv_buffer in csv_files:\n",
        "    s3_resource.Object(S3_BUCKET_NAME, 'csvs/' + file_name).put(Body=csv_buffer.getvalue())\n",
        "    csv_buffer.close()\n",
        "print(\"successfully uploaded\")"
      ],
      "metadata": {
        "id": "vTZps-PLa_24"
      },
      "execution_count": null,
      "outputs": []
    },
    {
      "cell_type": "markdown",
      "source": [
        "# Getting the schema"
      ],
      "metadata": {
        "id": "1eQ8U73va_24"
      }
    },
    {
      "cell_type": "code",
      "source": [
        "steelcase_fact_sql=pd.io.sql.get_schema(steelcase_fact_table.reset_index(),\"steelcase_fact\")\n",
        "print(''.join(steelcase_fact_sql))"
      ],
      "metadata": {
        "id": "nkvWKvRya_24"
      },
      "execution_count": null,
      "outputs": []
    },
    {
      "cell_type": "code",
      "source": [
        "customer_dim_sql=pd.io.sql.get_schema(customer_dim_table.reset_index(),\"customer_dim\")\n",
        "print(''.join(customer_dim_sql))"
      ],
      "metadata": {
        "id": "W1gsEcqHa_24"
      },
      "execution_count": null,
      "outputs": []
    },
    {
      "cell_type": "code",
      "source": [
        "shopping_dim_sql=pd.io.sql.get_schema(shopping_dim_table.reset_index(),\"shopping_dim\")\n",
        "print(''.join(shopping_dim_sql))"
      ],
      "metadata": {
        "id": "KUNKpsNTa_25"
      },
      "execution_count": null,
      "outputs": []
    },
    {
      "cell_type": "markdown",
      "source": [
        "# Connection for redshift cluster"
      ],
      "metadata": {
        "id": "HROqX4m7a_25"
      }
    },
    {
      "cell_type": "code",
      "source": [
        "conn = redshift_connector.connect(\n",
        "    host='redshift-cluster-1.cu3tnmdp6x7e.us-east-2.redshift.amazonaws.com',\n",
        "    database='dev',\n",
        "    user='awsuser',\n",
        "    password='Passw0rd123'\n",
        " )"
      ],
      "metadata": {
        "id": "0pdHqBppa_25"
      },
      "execution_count": null,
      "outputs": []
    },
    {
      "cell_type": "code",
      "source": [
        "conn.autocommit=True"
      ],
      "metadata": {
        "id": "2oS6-844a_25"
      },
      "execution_count": null,
      "outputs": []
    },
    {
      "cell_type": "code",
      "source": [
        "cursor = redshift_connector.Cursor = conn.cursor()"
      ],
      "metadata": {
        "id": "FLIFuQGfa_25"
      },
      "execution_count": null,
      "outputs": []
    },
    {
      "cell_type": "markdown",
      "source": [
        "# Making the table according the schema on redshift cluster"
      ],
      "metadata": {
        "id": "XbU5BJfKa_25"
      }
    },
    {
      "cell_type": "code",
      "source": [
        "cursor.execute(\"\"\"\n",
        "CREATE TABLE \"steelcase_fact_table\" (\n",
        "  \"order_id\" TEXT,\n",
        "  \"customer_id\" TEXT,\n",
        "  \"product_id\" TEXT,\n",
        "  \"sales\" REAL,\n",
        "  \"discount\" REAL\n",
        ")\n",
        "\n",
        "\"\"\")\n",
        "\n",
        "\n",
        "cursor.execute(\"\"\"\n",
        "CREATE TABLE \"customer_dim_table\" (\n",
        "  \"customer_id\" TEXT,\n",
        "  \"customer_name\" TEXT,\n",
        "  \"segment\" TEXT,\n",
        "  \"country\" TEXT,\n",
        "  \"city\" TEXT,\n",
        "  \"state\" TEXT,\n",
        "  \"postal_code\" INTEGER,\n",
        "  \"region\" TEXT,\n",
        "  \"age\" INTEGER\n",
        ")\n",
        "\n",
        "\"\"\")\n",
        "\n",
        "\n",
        "cursor.execute(\"\"\"\n",
        "CREATE TABLE \"shopping_dim_table\" (\n",
        "  \"product_id\" TEXT,\n",
        "  \"order_date\" TEXT,\n",
        "  \"ship_date\" TEXT,\n",
        "  \"ship_mode\" TEXT,\n",
        "  \"category\" TEXT,\n",
        "  \"sub_category\" TEXT,\n",
        "  \"product_name\" TEXT\n",
        ")\n",
        "\n",
        "\"\"\")\n"
      ],
      "metadata": {
        "id": "AMK2jUHNa_25"
      },
      "execution_count": null,
      "outputs": []
    },
    {
      "cell_type": "markdown",
      "source": [
        "# Using the copy command, data from S3 is uploaded to the Redshift cluster on tables."
      ],
      "metadata": {
        "id": "yeB-rXJ2a_25"
      }
    },
    {
      "cell_type": "code",
      "source": [
        "cursor.execute(\"\"\"\n",
        "COPY steelcase_fact_table from 's3://steelcase-output/csvs/steelcase_fact.csv'\n",
        "credentials 'aws_iam_role=arn:aws:iam::835245511616:role/redshift-s3-access'\n",
        "delimiter ','\n",
        "region 'us-east-2'\n",
        "IGNOREHEADER 1;\n",
        "\n",
        "\"\"\")\n",
        "\n",
        "cursor.execute(\"\"\"\n",
        "COPY customer_dim_table from 's3://steelcase-output/csvs/customer_dim.csv'\n",
        "credentials 'aws_iam_role=arn:aws:iam::835245511616:role/redshift-s3-access'\n",
        "delimiter ','\n",
        "region 'us-east-2'\n",
        "IGNOREHEADER 1;\n",
        "\n",
        "\"\"\")\n",
        "\n",
        "cursor.execute(\"\"\"\n",
        "COPY shopping_dim_table from 's3://steelcase-output/csvs/shopping_dim.csv'\n",
        "credentials 'aws_iam_role=arn:aws:iam::835245511616:role/redshift-s3-access'\n",
        "delimiter ','\n",
        "region 'us-east-2'\n",
        "IGNOREHEADER 1;\n",
        "\n",
        "\"\"\")"
      ],
      "metadata": {
        "id": "rrQzpKgaa_25"
      },
      "execution_count": null,
      "outputs": []
    },
    {
      "cell_type": "code",
      "source": [],
      "metadata": {
        "id": "yPiY3LpSa_26"
      },
      "execution_count": null,
      "outputs": []
    },
    {
      "cell_type": "markdown",
      "source": [
        "# Here is the link of full project https://github.com/deepaksethionly/AWS-data-engineering-projects/tree/steelcase-aws-de-project . Please upvote and give star to my repository if you like me work"
      ],
      "metadata": {
        "id": "_6wQquela_26"
      }
    },
    {
      "cell_type": "code",
      "source": [],
      "metadata": {
        "id": "fkNPcHLAa_26"
      },
      "execution_count": null,
      "outputs": []
    }
  ]
}